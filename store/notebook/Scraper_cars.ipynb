{
 "cells": [
  {
   "cell_type": "code",
   "execution_count": 30,
   "metadata": {
    "collapsed": true,
    "pycharm": {
     "is_executing": false,
     "name": "#%%\n"
    }
   },
   "outputs": [
    {
     "name": "stdout",
     "text": [
      "JAC\nJ2\nGEELY\nGX2\nCHERY\nTIGGO\nTOYOTA\nCAMRY\nRENAULT\nLAGUNA\nCHEVROLET\nAVEO\nMITSUBISHI\nOUTLANDER\nLEXUS\nES\nVOLKSWAGEN\nSCIROCCO\nMERCEDES-BENZ\n111CDI\nSKODA\nRAPID\nNISSAN\nLEAF\n[{'brand_model': 'JAC J2', 'year': '| 2014', 'carId': '000000000059384'}, {'brand_model': 'GEELY GX2', 'year': '| 2014', 'carId': '000000000046046'}, {'brand_model': 'CHERY TIGGO', 'year': '| 2014', 'carId': '000000000040874'}, {'brand_model': 'TOYOTA CAMRY', 'year': '| 2007', 'carId': '000000000078085'}, {'brand_model': 'RENAULT LAGUNA', 'year': '| 2003', 'carId': '000000000077371'}, {'brand_model': 'CHEVROLET AVEO', 'year': '| 2008', 'carId': '000000000074281'}, {'brand_model': 'MITSUBISHI OUTLANDER', 'year': '| 2004', 'carId': '000000000077376'}, {'brand_model': 'LEXUS ES', 'year': '| 2006', 'carId': '000000000074285'}, {'brand_model': 'VOLKSWAGEN SCIROCCO', 'year': '| 2011', 'carId': '000000000077110'}, {'brand_model': 'MERCEDES-BENZ 111CDI', 'year': '| 2008', 'carId': '000000000076178'}, {'brand_model': 'SKODA RAPID', 'year': '| 2013', 'carId': '000000000033032'}, {'brand_model': 'NISSAN LEAF', 'year': '| 2014', 'carId': '000000000077018'}]\n"
     ],
     "output_type": "stream"
    }
   ],
   "source": [
    "import requests\n",
    "from bs4 import BeautifulSoup\n",
    "\n",
    "page = 1\n",
    "url = f'https://planetavto.ua/ru/Harkivska/page={page};'\n",
    "response = requests.get(url, headers={'User-Agent': \"Mozilla/5.0 (X11; Linux i686) AppleWebKit/537.17 (KHTML, like Gecko) Chrome/24.0.1312.27 Safari/537.17\"})\n",
    "soup = BeautifulSoup(response.text, 'html.parser')\n",
    "table_cars = soup.find('section', class_='main_products').find_all('article', class_='product_item')\n",
    "\n",
    "k = 0\n",
    "data = []\n",
    "for car in table_cars:\n",
    "    k += 1\n",
    "    print(f'Car - {k}')\n",
    "    brand_model = car.find('a', class_='prod-link').text\n",
    "    brand_model_str = brand_model.__str__().split(' ')\n",
    "    brand = brand_model_str[0]\n",
    "    model = brand_model_str[1]\n",
    "    year = car.find('span', class_='year-show').text\n",
    "    car_id = car.find('a', class_='prod-link').get('id')\n",
    "    \n",
    "    data.append({\n",
    "        'brand': brand,\n",
    "        'model': model,\n",
    "        'year': year,\n",
    "        'carId': car_id\n",
    "    })\n",
    "\n",
    "print(data)"
   ]
  }
 ],
 "metadata": {
  "kernelspec": {
   "display_name": "Python 3",
   "language": "python",
   "name": "python3"
  },
  "language_info": {
   "codemirror_mode": {
    "name": "ipython",
    "version": 2
   },
   "file_extension": ".py",
   "mimetype": "text/x-python",
   "name": "python",
   "nbconvert_exporter": "python",
   "pygments_lexer": "ipython2",
   "version": "2.7.6"
  },
  "pycharm": {
   "stem_cell": {
    "cell_type": "raw",
    "source": [],
    "metadata": {
     "collapsed": false
    }
   }
  }
 },
 "nbformat": 4,
 "nbformat_minor": 0
}